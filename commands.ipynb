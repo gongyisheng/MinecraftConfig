{
 "cells": [
  {
   "cell_type": "code",
   "execution_count": 5,
   "metadata": {},
   "outputs": [
    {
     "name": "stdout",
     "output_type": "stream",
     "text": [
      "upload: scp -i ~/.ssh/yipit-mac.pem  ec2-user@:/home/ec2-user/\n",
      "download: scp -i ~/.ssh/yipit-mac.pem ec2-user@:/home/ec2-user/ \n"
     ]
    }
   ],
   "source": [
    "# Upload or download files to/from AWS EC2\n",
    "pem_path = \"~/.ssh/yipit-mac.pem\" # eg.~/.ssh/xxx.pem\n",
    "\n",
    "ec2_user = \"ec2-user\" # eg. ec2-user\n",
    "ec2_elastic_ip = \"\" # eg. 0.0.0.0\n",
    "\n",
    "upload_src_path = \"\" # eg. \"~/Downloads/opt.zip\"\n",
    "upload_dist_path = \"/home/ec2-user/\" # eg. /home/user/images/\n",
    "\n",
    "download_src_path = \"/home/ec2-user/\"\n",
    "download_dist_path = \"\"\n",
    "\n",
    "upload_files_command = f\"scp -i {pem_path} {upload_src_path} {ec2_user}@{ec2_elastic_ip}:{upload_dist_path}\"\n",
    "download_files_command = f\"scp -i {pem_path} {ec2_user}@{ec2_elastic_ip}:{download_src_path} {download_dist_path}\"\n",
    "\n",
    "print(f'upload: {upload_files_command}')\n",
    "print(f'download: {download_files_command}')"
   ]
  }
 ],
 "metadata": {
  "kernelspec": {
   "display_name": "Python 3.8.10 64-bit ('3.8.10')",
   "language": "python",
   "name": "python3"
  },
  "language_info": {
   "codemirror_mode": {
    "name": "ipython",
    "version": 3
   },
   "file_extension": ".py",
   "mimetype": "text/x-python",
   "name": "python",
   "nbconvert_exporter": "python",
   "pygments_lexer": "ipython3",
   "version": "3.8.10"
  },
  "orig_nbformat": 4,
  "vscode": {
   "interpreter": {
    "hash": "676edac1ef9988138982468f4b102c32adc20290aa5b4039e9cf4d3af73ead8b"
   }
  }
 },
 "nbformat": 4,
 "nbformat_minor": 2
}
