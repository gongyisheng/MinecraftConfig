{
 "cells": [
  {
   "cell_type": "code",
   "execution_count": 2,
   "metadata": {},
   "outputs": [
    {
     "data": {
      "text/plain": [
       "'scp -i   @:'"
      ]
     },
     "execution_count": 2,
     "metadata": {},
     "output_type": "execute_result"
    }
   ],
   "source": [
    "# Upload files to AWS EC2\n",
    "pem_path = \"\" # eg.~/.ssh/xxx.pem\n",
    "local_file_path = \"\" # eg. \"~/Downloads/opt.zip\"\n",
    "ec2_user = \"\" # eg. ec2-user\n",
    "ec2_elastic_ip = \"\" # eg. 0.0.0.0\n",
    "target_path = \"\" # eg. /home/user/images/\n",
    "\n",
    "upload_files_command = f\"scp -i {pem_path} {local_file_path} {ec2_user}@{ec2_elastic_ip}:{target_path}\"\n",
    "print(upload_files_command)"
   ]
  }
 ],
 "metadata": {
  "kernelspec": {
   "display_name": "Python 3.8.10 64-bit ('3.8.10')",
   "language": "python",
   "name": "python3"
  },
  "language_info": {
   "codemirror_mode": {
    "name": "ipython",
    "version": 3
   },
   "file_extension": ".py",
   "mimetype": "text/x-python",
   "name": "python",
   "nbconvert_exporter": "python",
   "pygments_lexer": "ipython3",
   "version": "3.8.10"
  },
  "orig_nbformat": 4,
  "vscode": {
   "interpreter": {
    "hash": "676edac1ef9988138982468f4b102c32adc20290aa5b4039e9cf4d3af73ead8b"
   }
  }
 },
 "nbformat": 4,
 "nbformat_minor": 2
}
